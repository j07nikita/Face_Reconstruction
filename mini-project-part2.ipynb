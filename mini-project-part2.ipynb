{
 "cells": [
  {
   "cell_type": "code",
   "execution_count": 1,
   "metadata": {},
   "outputs": [],
   "source": [
    "import os, sys, glob\n",
    "import numpy as np\n",
    "import matplotlib.pyplot as plt\n",
    "import PIL.Image as Image\n",
    "import math"
   ]
  },
  {
   "cell_type": "code",
   "execution_count": 2,
   "metadata": {},
   "outputs": [],
   "source": [
    "train_file = open('sample_train.txt', 'r') \n",
    "paths = train_file.readlines();\n",
    "\n",
    "for i in range(0, len(paths)):\n",
    "    paths[i] = paths[i].rstrip()"
   ]
  },
  {
   "cell_type": "code",
   "execution_count": 18,
   "metadata": {},
   "outputs": [],
   "source": [
    "train_paths = []\n",
    "for i in paths:\n",
    "    train_paths.append([i.split(' ')[0], i.split(' ')[1]])\n",
    "\n",
    "X = []\n",
    "train_data = []\n",
    "for i in train_paths:\n",
    "    image = np.array(Image.open(i[0]).convert('L'), dtype='uint8')\n",
    "    X.append(image)\n",
    "    image = np.reshape(image, (256*256, 1))\n",
    "    train_data.append([image, i[1]])\n",
    "    \n",
    "##train_data contains list(image_array, lable)  "
   ]
  },
  {
   "cell_type": "code",
   "execution_count": 4,
   "metadata": {},
   "outputs": [],
   "source": [
    "def read_images(path, sz=None):\n",
    "    X = []\n",
    "    for files in glob.glob(path + \"/*.jpg\"):\n",
    "        image = np.array(Image.open(files).convert('L'), dtype='uint8')\n",
    "        X.append(image)\n",
    "    return X\n",
    "\n",
    "def normalize(X, low, high):\n",
    "    X = np.array(X)\n",
    "    min_X, max_X = np.min(X), np.max(X)\n",
    "    X = X - float(min_X)\n",
    "    X = X / float((max_X - min_X))\n",
    "    X = X * (high - low)\n",
    "    X = X + low\n",
    "    return np.array(X)\n",
    "\n",
    "def asRowMatrix(X):\n",
    "    if len(X) == 0:\n",
    "        return np.array([])\n",
    "    mat = []\n",
    "    for i in range(0, len(X)):\n",
    "        mat.append(np.reshape(X[i], (X[0].shape[0] * X[0].shape[0], )))\n",
    "    return np.array(mat)\n",
    "\n",
    "def subplot(title, images, rows, cols, subt = \"subplot\", subts = [], colormap='gray', ticks_visible=True):\n",
    "    fig = plt.figure(figsize=(10,10))\n",
    "    # main title\n",
    "    fig.text(.5, .95, title, horizontalalignment='center') \n",
    "    for i in range(len(images)):\n",
    "        ax0 = fig.add_subplot(rows,cols,(i+1))\n",
    "        plt.setp(ax0.get_xticklabels(), visible=False)\n",
    "        plt.setp(ax0.get_yticklabels(), visible=False)\n",
    "        if len(subts) == len(images):\n",
    "            plt.title(\"%s %s\" % (subt, str(subts[i])))\n",
    "        else:\n",
    "            plt.title(\"%s %d\" % (subt, (i+1)))\n",
    "        plt.imshow(np.asarray(images[i]), cmap=colormap)\n",
    "    plt.show()\n",
    "\n",
    "def pca(X):\n",
    "    [n,d] = X.shape\n",
    "    mu = X.mean(axis=0)\n",
    "    X = X - mu\n",
    "    if n>d:\n",
    "        C = np.dot(X.T,X)\n",
    "        [eigenvalues,eigenvectors] = np.linalg.eigh(C)\n",
    "    else:\n",
    "        C = np.dot(X,X.T)\n",
    "        [eigenvalues,eigenvectors] = np.linalg.eigh(C)\n",
    "        eigenvectors = np.dot(X.T,eigenvectors)\n",
    "        for i in range(n):\n",
    "            eigenvectors[:,i] = eigenvectors[:,i]/np.linalg.norm(eigenvectors[:,i])\n",
    "            \n",
    "    idx = np.argsort(-eigenvalues)\n",
    "    eigenvalues = eigenvalues[idx]\n",
    "    eigenvectors = eigenvectors[:,idx]\n",
    "    return [eigenvalues, eigenvectors, mu]\n",
    "\n",
    "def project(W, X, mu = None):\n",
    "    if mu is None:\n",
    "        return np.dot(X,W)\n",
    "    return np.dot(X - mu, W)\n",
    "\n",
    "def reconstruct(W, Y, mu=None):\n",
    "    if mu is None:\n",
    "        return np.dot(Y,W.T)\n",
    "    return np.dot(Y, W.T) + mu\n",
    "\n",
    "def weight_img(image, components):\n",
    "    numEvs = components\n",
    "    P = project(eig_vecs[:,0:numEvs], image.reshape(1,-1), mu)\n",
    "    return P\n",
    "\n",
    "def reconstruct_img(image):\n",
    "    steps = [i for i in range(10, min(len(X), 320), 20)]\n",
    "    E = []\n",
    "    for i in range(len(steps)):\n",
    "        numEvs = steps[i]\n",
    "        P = project(eig_vecs[:,0:numEvs], image.reshape(1,-1), mu)\n",
    "        R = reconstruct(eig_vecs[:,0:numEvs], P, mu)\n",
    "        # reshape and append\n",
    "        R = R.reshape(image.shape)\n",
    "        E.append(normalize(R,0,255))\n",
    "    return E, steps\n",
    "\n",
    "def MSE(X, Y):\n",
    "    m, n = X.shape\n",
    "    error = 0\n",
    "    for i in range(m):\n",
    "        for j in range(n):\n",
    "            error += (X[i, j] - Y[i, j])**2\n",
    "    error /= (m * n)\n",
    "    return error"
   ]
  },
  {
   "cell_type": "code",
   "execution_count": 10,
   "metadata": {},
   "outputs": [
    {
     "data": {
      "text/plain": [
       "(65536, 1)"
      ]
     },
     "execution_count": 10,
     "metadata": {},
     "output_type": "execute_result"
    }
   ],
   "source": [
    "train_data[0][0].shape"
   ]
  },
  {
   "cell_type": "code",
   "execution_count": 22,
   "metadata": {},
   "outputs": [],
   "source": [
    "[eig_val, eig_vecs, mu] = pca(asRowMatrix(X))\n",
    "components = 32"
   ]
  },
  {
   "cell_type": "code",
   "execution_count": 23,
   "metadata": {},
   "outputs": [
    {
     "data": {
      "text/plain": [
       "(65536, 9)"
      ]
     },
     "execution_count": 23,
     "metadata": {},
     "output_type": "execute_result"
    }
   ],
   "source": [
    "eig_vecs.shape"
   ]
  },
  {
   "cell_type": "code",
   "execution_count": 24,
   "metadata": {},
   "outputs": [
    {
     "data": {
      "text/plain": [
       "(9, 65536)"
      ]
     },
     "execution_count": 24,
     "metadata": {},
     "output_type": "execute_result"
    }
   ],
   "source": [
    "asRowMatrix(X).shape"
   ]
  },
  {
   "cell_type": "code",
   "execution_count": 25,
   "metadata": {},
   "outputs": [],
   "source": [
    "Eig_face = []\n",
    "for i in range(min(len(X), components)):\n",
    "    e = eig_vecs[:,i].reshape(X[0].shape)\n",
    "    Eig_face.append(normalize(e, 0, 255))"
   ]
  },
  {
   "cell_type": "code",
   "execution_count": 26,
   "metadata": {},
   "outputs": [],
   "source": [
    "train_data_X = []\n",
    "train_data_Y = []\n",
    "for i in range(0, len(train_data)):\n",
    "    train_data_X.append(weight_img(train_data[i][0], components).flatten())\n",
    "    train_data_Y.append(train_data[i][1])"
   ]
  },
  {
   "cell_type": "code",
   "execution_count": 27,
   "metadata": {},
   "outputs": [
    {
     "data": {
      "text/plain": [
       "array([[-3.21047139e-03,  4.11322407e-03,  4.51513959e-03, ...,\n",
       "        -6.68365035e-05,  2.59225267e-03, -1.84218271e-03],\n",
       "       [-2.99875758e-03,  4.24949702e-03,  4.05230176e-03, ...,\n",
       "         1.00379637e-04,  2.78421916e-03, -1.77113434e-03],\n",
       "       [-2.67152517e-03,  4.42383710e-03,  3.82022845e-03, ...,\n",
       "        -2.77005526e-04,  3.53502712e-03, -4.25275238e-03],\n",
       "       ...,\n",
       "       [-2.30171897e-03,  1.81946355e-03, -4.88919650e-05, ...,\n",
       "        -1.14304703e-02, -2.27520493e-03,  1.16024524e-02],\n",
       "       [-2.34318561e-03,  1.95762254e-03, -1.00713099e-04, ...,\n",
       "        -1.13114352e-02, -3.03617204e-03,  1.29742569e-02],\n",
       "       [-2.44104731e-03,  2.02679177e-03, -1.15447092e-04, ...,\n",
       "        -1.11390549e-02, -3.29200379e-03,  1.41226078e-02]])"
      ]
     },
     "execution_count": 27,
     "metadata": {},
     "output_type": "execute_result"
    }
   ],
   "source": [
    "eig_vecs"
   ]
  },
  {
   "cell_type": "code",
   "execution_count": 28,
   "metadata": {},
   "outputs": [
    {
     "data": {
      "text/plain": [
       "[array([[118.06537264, 122.115118  , 128.37454885, ..., 120.440295  ,\n",
       "         121.33008346, 133.97095297],\n",
       "        [121.65988674, 122.72128547, 125.35568581, ..., 115.49117001,\n",
       "         116.54326835, 118.12714754],\n",
       "        [125.52177695, 122.64189936, 120.37178225, ..., 113.17427702,\n",
       "         118.03252722, 113.2925718 ],\n",
       "        ...,\n",
       "        [  8.80952043,  18.49470856,  26.82675317, ..., 137.44565922,\n",
       "         132.14977588, 127.5994226 ],\n",
       "        [  8.63798017,  14.98186462,  22.972456  , ..., 135.09954098,\n",
       "         132.29792994, 128.4204961 ],\n",
       "        [  9.92411714,  14.35115011,  19.84722878, ..., 135.44834813,\n",
       "         134.65515772, 132.7832206 ]]),\n",
       " array([[185.27239295, 187.01355756, 189.24110718, ..., 188.03578358,\n",
       "         190.16397941, 197.93855573],\n",
       "        [187.47899557, 187.69162503, 187.99816936, ..., 181.85154525,\n",
       "         186.46164745, 189.30817246],\n",
       "        [189.12408492, 187.44821804, 186.51471189, ..., 177.77271446,\n",
       "         184.83415162, 183.72539318],\n",
       "        ...,\n",
       "        [156.45380462, 155.49834166, 157.95006846, ..., 151.76676386,\n",
       "         154.70249348, 156.15422604],\n",
       "        [156.39002633, 157.32427018, 159.56951794, ..., 153.87262568,\n",
       "         156.04161973, 157.13658828],\n",
       "        [156.43704917, 157.89598722, 160.21929663, ..., 155.96493003,\n",
       "         157.73019266, 158.61397037]]),\n",
       " array([[195.34763733, 189.93967049, 187.22804084, ..., 147.13400008,\n",
       "         145.71731791, 131.79440033],\n",
       "        [192.94358439, 190.43943086, 189.05872105, ..., 151.84981305,\n",
       "         150.7103259 , 147.09840519],\n",
       "        [191.13851705, 189.9000853 , 190.22845521, ..., 153.68842051,\n",
       "         151.84757962, 156.6969007 ],\n",
       "        ...,\n",
       "        [158.52901125, 161.06943275, 163.7640833 , ..., 141.31076902,\n",
       "         145.2586581 , 147.71385386],\n",
       "        [157.96460101, 162.82699371, 166.66821584, ..., 143.24548663,\n",
       "         144.49955457, 146.24777132],\n",
       "        [158.24367434, 162.64566846, 169.18516483, ..., 142.01981934,\n",
       "         141.41432221, 141.24216484]]),\n",
       " array([[152.4887866 , 151.42941715, 149.60269878, ...,  81.10283692,\n",
       "          75.80032255,  66.9251456 ],\n",
       "        [152.18646331, 151.08347343, 149.96048491, ...,  78.44990402,\n",
       "          77.52428758,  74.9242337 ],\n",
       "        [151.98427221, 150.79090798, 151.0659626 , ...,  79.10122451,\n",
       "          78.79639841,  79.47430275],\n",
       "        ...,\n",
       "        [ 43.89011826,  39.86756591,  34.10730221, ...,   9.04183376,\n",
       "           7.87245969,   9.37469098],\n",
       "        [ 44.94407116,  41.21438641,  36.30579001, ...,  11.23200101,\n",
       "          10.66556847,  12.78382355],\n",
       "        [ 43.46032883,  42.14452245,  38.39195848, ...,  13.79903418,\n",
       "          14.32064463,  16.65371016]]),\n",
       " array([[ 11.90507581,  14.02101046,  10.30660319, ..., 105.03814001,\n",
       "         116.79083627, 131.87831023],\n",
       "        [ 13.52388113,  14.87537257,  10.70159381, ..., 106.88308641,\n",
       "         112.58118525, 118.53803697],\n",
       "        [ 15.20454326,  15.14627584,  10.8301605 , ..., 106.70605544,\n",
       "         111.16267611, 110.36209127],\n",
       "        ...,\n",
       "        [165.67589908, 167.48047705, 176.39997398, ..., 183.10901417,\n",
       "         191.32275884, 195.31125112],\n",
       "        [167.43727849, 168.39994361, 175.88963651, ..., 183.23549983,\n",
       "         190.36803447, 193.44886567],\n",
       "        [170.40189284, 168.89151562, 175.99121922, ..., 182.46565672,\n",
       "         188.01242488, 190.8036193 ]]),\n",
       " array([[152.20464628, 148.87843198, 140.9169926 , ..., 129.04749235,\n",
       "         130.14985506, 124.67346615],\n",
       "        [146.81250577, 144.07004808, 138.60316881, ..., 121.78416953,\n",
       "         130.35874609, 134.2379679 ],\n",
       "        [136.9722291 , 136.48701908, 134.67677961, ..., 117.66759171,\n",
       "         126.51790235, 132.95174682],\n",
       "        ...,\n",
       "        [232.06256855, 224.12325717, 212.63697559, ..., 188.51125812,\n",
       "         190.39472246, 194.6946498 ],\n",
       "        [231.49114039, 226.89217708, 217.64317847, ..., 191.16121541,\n",
       "         190.82701855, 194.49143494],\n",
       "        [228.9194663 , 226.92901946, 220.37933984, ..., 192.92906611,\n",
       "         192.10638693, 193.64427059]]),\n",
       " array([[115.06025024, 116.34434568, 113.44630864, ..., 116.1543085 ,\n",
       "         118.80727811, 124.29231789],\n",
       "        [114.58068461, 115.82313274, 114.37359127, ..., 118.84367683,\n",
       "         118.97356634, 120.76182859],\n",
       "        [113.61643518, 116.36118262, 116.74305173, ..., 120.32091724,\n",
       "         117.58125588, 116.47514156],\n",
       "        ...,\n",
       "        [ 65.59836238,  69.6001921 ,  64.68859137, ...,  33.34114564,\n",
       "          32.63661618,  33.36205514],\n",
       "        [ 62.70233409,  69.94652967,  69.06723415, ...,  29.3223436 ,\n",
       "          30.14782873,  30.98038786],\n",
       "        [ 60.19185767,  69.43071068,  71.89706709, ...,  27.79600427,\n",
       "          28.71010492,  30.03385747]]),\n",
       " array([[134.37881525, 135.56092426, 140.1843191 , ..., 127.17155844,\n",
       "         121.10393692, 115.2917233 ],\n",
       "        [133.86935153, 135.24823637, 140.16934486, ..., 119.35249669,\n",
       "         122.5025749 , 123.18888658],\n",
       "        [133.35699619, 137.05613429, 142.69884091, ..., 114.48844736,\n",
       "         119.1119024 , 121.33819008],\n",
       "        ...,\n",
       "        [147.32445898, 142.62355075, 137.77216672, ...,  98.99745887,\n",
       "          97.20899678,  98.43721353],\n",
       "        [148.24859473, 145.05519601, 141.09629096, ..., 101.74373832,\n",
       "          98.66506147,  99.19516943],\n",
       "        [146.56270511, 144.63061619, 141.48045267, ..., 104.40553373,\n",
       "          99.71957995,  98.14419549]]),\n",
       " array([[ 97.60674157,  98.14157303,  79.46067416, ..., 122.8011236 ,\n",
       "         121.71235955, 145.84662921],\n",
       "        [ 96.07865169,  83.6247191 ,  77.39775281, ..., 110.6241573 ,\n",
       "         137.83370787, 125.83820225],\n",
       "        [ 83.12808989,  86.22247191,  71.70561798, ..., 111.45505618,\n",
       "         117.08988764, 125.89550562],\n",
       "        ...,\n",
       "        [243.00449438, 246.67191011, 232.68988764, ..., 202.33342697,\n",
       "         218.84873596, 220.26699438],\n",
       "        [253.89213483, 233.14831461, 226.4247191 , ..., 209.46292135,\n",
       "         209.86882022, 208.90898876],\n",
       "        [252.3258427 , 237.31235955, 234.75280899, ..., 198.81404494,\n",
       "         209.14058989, 217.78504213]])]"
      ]
     },
     "execution_count": 28,
     "metadata": {},
     "output_type": "execute_result"
    }
   ],
   "source": [
    "Eig_face"
   ]
  },
  {
   "cell_type": "code",
   "execution_count": 29,
   "metadata": {},
   "outputs": [],
   "source": [
    "train_data_X = np.array(train_data_X)\n",
    "train_data_Y = np.array(train_data_Y)"
   ]
  },
  {
   "cell_type": "code",
   "execution_count": 30,
   "metadata": {
    "scrolled": true
   },
   "outputs": [
    {
     "data": {
      "image/png": "[encoded data removed]",
      "text/plain": [
       "<Figure size 432x288 with 1 Axes>"
      ]
     },
     "metadata": {},
     "output_type": "display_data"
    },
    {
     "data": {
      "image/png": "[encoded data removed]",
      "text/plain": [
       "<Figure size 432x288 with 1 Axes>"
      ]
     },
     "metadata": {},
     "output_type": "display_data"
    },
    {
     "data": {
      "image/png": "[encoded data removed]",
      "text/plain": [
       "<Figure size 432x288 with 1 Axes>"
      ]
     },
     "metadata": {},
     "output_type": "display_data"
    },
    {
     "data": {
      "image/png": "[encoded data removed]",
      "text/plain": [
       "<Figure size 432x288 with 1 Axes>"
      ]
     },
     "metadata": {},
     "output_type": "display_data"
    },
    {
     "data": {
      "image/png": "[encoded data removed]",
      "text/plain": [
       "<Figure size 432x288 with 1 Axes>"
      ]
     },
     "metadata": {},
     "output_type": "display_data"
    },
    {
     "data": {
      "image/png": "[encoded data removed]",
      "text/plain": [
       "<Figure size 432x288 with 1 Axes>"
      ]
     },
     "metadata": {},
     "output_type": "display_data"
    },
    {
     "data": {
      "image/png": "[encoded data removed]",
      "text/plain": [
       "<Figure size 432x288 with 1 Axes>"
      ]
     },
     "metadata": {},
     "output_type": "display_data"
    },
    {
     "data": {
      "image/png": "[encoded data removed]",
      "text/plain": [
       "<Figure size 432x288 with 1 Axes>"
      ]
     },
     "metadata": {},
     "output_type": "display_data"
    },
    {
     "data": {
      "image/png": "[encoded data removed]",
      "text/plain": [
       "<Figure size 432x288 with 1 Axes>"
      ]
     },
     "metadata": {},
     "output_type": "display_data"
    },
    {
     "ename": "IndexError",
     "evalue": "index 9 is out of bounds for axis 1 with size 9",
     "output_type": "error",
     "traceback": [
      "\u001b[0;31m---------------------------------------------------------------------------\u001b[0m",
      "\u001b[0;31mIndexError\u001b[0m                                Traceback (most recent call last)",
      "\u001b[0;32m<ipython-input-30-6cd472d485bd>\u001b[0m in \u001b[0;36m<module>\u001b[0;34m()\u001b[0m\n\u001b[1;32m      1\u001b[0m \u001b[0;32mfor\u001b[0m \u001b[0mi\u001b[0m \u001b[0;32min\u001b[0m \u001b[0mrange\u001b[0m\u001b[0;34m(\u001b[0m\u001b[0;36m0\u001b[0m\u001b[0;34m,\u001b[0m \u001b[0;36m32\u001b[0m\u001b[0;34m)\u001b[0m\u001b[0;34m:\u001b[0m\u001b[0;34m\u001b[0m\u001b[0m\n\u001b[0;32m----> 2\u001b[0;31m     \u001b[0mplt\u001b[0m\u001b[0;34m.\u001b[0m\u001b[0mscatter\u001b[0m\u001b[0;34m(\u001b[0m\u001b[0mtrain_data_X\u001b[0m\u001b[0;34m[\u001b[0m\u001b[0;34m:\u001b[0m\u001b[0;34m,\u001b[0m\u001b[0mi\u001b[0m\u001b[0;34m]\u001b[0m\u001b[0;34m,\u001b[0m \u001b[0;34m[\u001b[0m\u001b[0mi\u001b[0m \u001b[0;32mfor\u001b[0m \u001b[0mi\u001b[0m \u001b[0;32min\u001b[0m \u001b[0mrange\u001b[0m\u001b[0;34m(\u001b[0m\u001b[0;36m0\u001b[0m\u001b[0;34m,\u001b[0m \u001b[0mtrain_data_X\u001b[0m\u001b[0;34m.\u001b[0m\u001b[0mshape\u001b[0m\u001b[0;34m[\u001b[0m\u001b[0;36m0\u001b[0m\u001b[0;34m]\u001b[0m\u001b[0;34m)\u001b[0m\u001b[0;34m]\u001b[0m\u001b[0;34m)\u001b[0m\u001b[0;34m\u001b[0m\u001b[0m\n\u001b[0m\u001b[1;32m      3\u001b[0m     \u001b[0mplt\u001b[0m\u001b[0;34m.\u001b[0m\u001b[0mshow\u001b[0m\u001b[0;34m(\u001b[0m\u001b[0;34m)\u001b[0m\u001b[0;34m\u001b[0m\u001b[0m\n",
      "\u001b[0;31mIndexError\u001b[0m: index 9 is out of bounds for axis 1 with size 9"
     ]
    }
   ],
   "source": [
    "for i in range(0, 32):\n",
    "    plt.scatter(train_data_X[:,i], [i for i in range(0, train_data_X.shape[0])])\n",
    "    plt.show()"
   ]
  },
  {
   "cell_type": "code",
   "execution_count": 31,
   "metadata": {},
   "outputs": [],
   "source": [
    "test_file = open('sample_test.txt', 'r') \n",
    "paths = test_file.readlines();\n",
    "\n",
    "for i in range(0, len(paths)):\n",
    "    paths[i] = paths[i].rstrip()\n",
    "    \n",
    "test_data = []\n",
    "\n",
    "for i in paths:\n",
    "    image = np.array(Image.open(i).convert('L'), dtype='uint8')\n",
    "    image = np.reshape(image, (256*256, 1))\n",
    "    test_data.append(image)"
   ]
  },
  {
   "cell_type": "code",
   "execution_count": 32,
   "metadata": {},
   "outputs": [],
   "source": [
    "test_data_X = []\n",
    "for i in range(0, len(test_data)):\n",
    "    test_data_X.append(weight_img(test_data[i], components).flatten())"
   ]
  },
  {
   "cell_type": "code",
   "execution_count": 33,
   "metadata": {},
   "outputs": [],
   "source": [
    "test_data_X = np.array(test_data_X)"
   ]
  },
  {
   "cell_type": "code",
   "execution_count": 34,
   "metadata": {},
   "outputs": [],
   "source": [
    "def separate_By_Class(data_x, data_y):\n",
    "    separated_dict = {}\n",
    "    for i in range(len(data_x)):\n",
    "        key = data_x[i]\n",
    "        if (data_y[i] not in separated_dict):\n",
    "            separated_dict[data_y[i]] = []\n",
    "        separated_dict[data_y[i]].append(key)\n",
    "    return separated_dict\n",
    "\n",
    "def mean(numbers):\n",
    "    num = sum(numbers)\n",
    "    deno = float(len(numbers))\n",
    "    return num/deno\n",
    "\n",
    "def stdev(numbers):\n",
    "    avg = mean(numbers)\n",
    "    var_num = sum([pow(x-avg,2) for x in numbers])\n",
    "    var_deno = float(len(numbers)-1)\n",
    "    variance = var_num / var_deno\n",
    "    return math.sqrt(variance)\n",
    "\n",
    "def get_distribution(data_x, data_y):\n",
    "    distribution = [(mean(attribute), stdev(attribute)) for attribute in zip(*data_x)]\n",
    "    return distribution\n",
    "\n",
    "def distribution_by_class(data_x, data_y):\n",
    "    separated = separate_By_Class(data_x, data_y)\n",
    "    distributions = {}\n",
    "    for classes, keys in separated.items():\n",
    "        distributions[classes] = get_distribution(keys, data_y)\n",
    "    return distributions"
   ]
  },
  {
   "cell_type": "code",
   "execution_count": 35,
   "metadata": {},
   "outputs": [],
   "source": [
    "def calculate_Probability(x, mean, stdev):\n",
    "    exponent = math.exp(-(math.pow(x-mean,2)/(2*math.pow(stdev,2))))\n",
    "    return math.log((1 / (math.sqrt(2*math.pi) * stdev)) * exponent)\n",
    "\n",
    "def calculate_Class_Probabilities(distributions, X):\n",
    "    probabilities = {}\n",
    "    for Value, dist in distributions.items():\n",
    "        probabilities[Value] = 1\n",
    "        for i in range(len(dist)):\n",
    "            mean, stdev = dist[i]\n",
    "            x = X[i]\n",
    "            probabilities[Value] += calculate_Probability(x, mean, stdev)\n",
    "    return probabilities"
   ]
  },
  {
   "cell_type": "code",
   "execution_count": 36,
   "metadata": {},
   "outputs": [],
   "source": [
    "def predict(distributions, X):\n",
    "    probabilities = calculate_Class_Probabilities(distributions, X)\n",
    "    bestLabel, bestProb = None, -100\n",
    "    for label, probability in probabilities.items():\n",
    "        if probability > bestProb or bestLabel is None:\n",
    "            bestProb = probability\n",
    "            bestLabel = label\n",
    "    return bestLabel\n",
    "\n",
    "def get_Predictions(distributions, testSet):\n",
    "    predictions = []\n",
    "    for i in range(len(testSet)):\n",
    "        result = predict(distributions, testSet[i])\n",
    "        predictions.append(result)\n",
    "    return predictions\n",
    "\n",
    "def getAccuracy(lable, predictions):\n",
    "    correct = 0\n",
    "    for x in range(len(lable)):\n",
    "        if lable[x] == predictions[x]:\n",
    "            correct += 1\n",
    "    return (correct/float(len(lable))) * 100.0"
   ]
  },
  {
   "cell_type": "code",
   "execution_count": 37,
   "metadata": {},
   "outputs": [],
   "source": [
    "def classifier(X_train, Y_train, X_test):\n",
    "    summary = distribution_by_class(X_train, Y_train)\n",
    "    prediction = get_Predictions(summary, X_test)\n",
    "#     accuracy = getAccuracy(Y_test, prediction)\n",
    "    return prediction"
   ]
  },
  {
   "cell_type": "code",
   "execution_count": 38,
   "metadata": {},
   "outputs": [
    {
     "data": {
      "text/plain": [
       "array([-4141.2689524 ,  4539.211164  ,  6153.06632592, -4984.44353015,\n",
       "        5223.07995245,   458.54989975,  -734.98528833,   607.68897299,\n",
       "        3713.95311629])"
      ]
     },
     "execution_count": 38,
     "metadata": {},
     "output_type": "execute_result"
    }
   ],
   "source": [
    "train_data_X[0]"
   ]
  },
  {
   "cell_type": "code",
   "execution_count": 39,
   "metadata": {},
   "outputs": [],
   "source": [
    "p = classifier(train_data_X, train_data_Y, test_data_X)"
   ]
  },
  {
   "cell_type": "code",
   "execution_count": 40,
   "metadata": {},
   "outputs": [
    {
     "data": {
      "text/plain": [
       "['abc', 'abc', 'alice', 'bob', 'bob']"
      ]
     },
     "execution_count": 40,
     "metadata": {},
     "output_type": "execute_result"
    }
   ],
   "source": [
    "p"
   ]
  }
 ],
 "metadata": {
  "kernelspec": {
   "display_name": "Python 3",
   "language": "python",
   "name": "python3"
  },
  "language_info": {
   "codemirror_mode": {
    "name": "ipython",
    "version": 3
   },
   "file_extension": ".py",
   "mimetype": "text/x-python",
   "name": "python",
   "nbconvert_exporter": "python",
   "pygments_lexer": "ipython3",
   "version": "3.6.5"
  }
 },
 "nbformat": 4,
 "nbformat_minor": 2
}
