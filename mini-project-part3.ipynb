{
 "cells": [
  {
   "cell_type": "code",
   "execution_count": 1,
   "metadata": {},
   "outputs": [],
   "source": [
    "import pandas as pd\n",
    "import numpy as np\n",
    "import matplotlib.pyplot as plt\n",
    "import os, sys, glob\n",
    "import PIL.Image as Image"
   ]
  },
  {
   "cell_type": "code",
   "execution_count": 2,
   "metadata": {},
   "outputs": [],
   "source": [
    "train_file = open('sample_train.txt', 'r') \n",
    "paths = train_file.readlines();\n",
    "\n",
    "for i in range(0, len(paths)):\n",
    "    paths[i] = paths[i].rstrip()\n",
    "    \n",
    "train_paths = []\n",
    "for i in paths:\n",
    "    train_paths.append([i.split(' ')[0], i.split(' ')[1]])\n",
    "    \n",
    "train_data = []\n",
    "for i in train_paths:\n",
    "    image = np.array(Image.open(i[0]).convert('L'), dtype='uint8')\n",
    "    image = np.reshape(image, (256*256, 1))\n",
    "    train_data.append([image, i[1]])"
   ]
  },
  {
   "cell_type": "code",
   "execution_count": 3,
   "metadata": {},
   "outputs": [],
   "source": [
    "test_file = open('sample_test.txt', 'r') \n",
    "paths = test_file.readlines();\n",
    "\n",
    "for i in range(0, len(paths)):\n",
    "    paths[i] = paths[i].rstrip()\n",
    "    \n",
    "test_data = []\n",
    "\n",
    "for i in paths:\n",
    "    image = np.array(Image.open(i).convert('L'), dtype='uint8')\n",
    "    image = np.reshape(image, (256*256, 1))\n",
    "    test_data.append(image)"
   ]
  },
  {
   "cell_type": "code",
   "execution_count": 4,
   "metadata": {},
   "outputs": [],
   "source": [
    "def read_images(path, sz=None):\n",
    "    X = []\n",
    "    for files in glob.glob(path + \"/*.jpg\"):\n",
    "        image = np.array(Image.open(files).convert('L'), dtype='uint8')\n",
    "        X.append(image)\n",
    "    return X\n",
    "\n",
    "def normalize(X, low, high):\n",
    "    X = np.array(X)\n",
    "    min_X, max_X = np.min(X), np.max(X)\n",
    "    X = X - float(min_X)\n",
    "    X = X / float((max_X - min_X))\n",
    "    X = X * (high - low)\n",
    "    X = X + low\n",
    "    return np.array(X)\n",
    "\n",
    "def asRowMatrix(X):\n",
    "    if len(X) == 0:\n",
    "        return np.array([])\n",
    "    mat = []\n",
    "    for i in range(0, len(X)):\n",
    "        mat.append(np.reshape(X[i], (X[0].shape[0] * X[0].shape[0], )))\n",
    "    return np.array(mat)\n",
    "\n",
    "def subplot(title, images, rows, cols, subt = \"subplot\", subts = [], colormap='gray', ticks_visible=True):\n",
    "    fig = plt.figure(figsize=(10,10))\n",
    "    # main title\n",
    "    fig.text(.5, .95, title, horizontalalignment='center') \n",
    "    for i in range(len(images)):\n",
    "        ax0 = fig.add_subplot(rows,cols,(i+1))\n",
    "        plt.setp(ax0.get_xticklabels(), visible=False)\n",
    "        plt.setp(ax0.get_yticklabels(), visible=False)\n",
    "        if len(subts) == len(images):\n",
    "            plt.title(\"%s %s\" % (subt, str(subts[i])), create_font('Tahoma',10))\n",
    "        else:\n",
    "            plt.title(\"%s %d\" % (subt, (i+1)), create_font('Tahoma',10))\n",
    "        plt.imshow(np.asarray(images[i]), cmap=colormap)\n",
    "    plt.show()\n",
    "\n",
    "def pca(X):\n",
    "    [n,d] = X.shape\n",
    "    mu = X.mean(axis=0)\n",
    "    X = X - mu\n",
    "    if n>d:\n",
    "        C = np.dot(X.T,X)\n",
    "        [eigenvalues,eigenvectors] = np.linalg.eigh(C)\n",
    "    else:\n",
    "        C = np.dot(X,X.T)\n",
    "        [eigenvalues,eigenvectors] = np.linalg.eigh(C)\n",
    "        eigenvectors = np.dot(X.T,eigenvectors)\n",
    "        for i in range(n):\n",
    "            eigenvectors[:,i] = eigenvectors[:,i]/np.linalg.norm(eigenvectors[:,i])\n",
    "            \n",
    "    idx = np.argsort(-eigenvalues)\n",
    "    eigenvalues = eigenvalues[idx]\n",
    "    eigenvectors = eigenvectors[:,idx]\n",
    "    return [eigenvalues, eigenvectors, mu]\n",
    "\n",
    "def project(W, X, mu = None):\n",
    "    if mu is None:\n",
    "        return np.dot(X,W)\n",
    "    return np.dot(X - mu, W)\n",
    "\n",
    "def reconstruct(W, Y, mu=None):\n",
    "    if mu is None:\n",
    "        return np.dot(Y,W.T)\n",
    "    return np.dot(Y, W.T) + mu\n",
    "\n",
    "def weight_img(image, components):\n",
    "    numEvs = components\n",
    "    P = project(eig_vecs[:,0:numEvs], image.reshape(1,-1), mu)\n",
    "    return P\n",
    "\n",
    "def reconstruct_img(image):\n",
    "    steps = [i for i in range(10, min(len(X), 320), 20)]\n",
    "    E = []\n",
    "    for i in range(len(steps)):\n",
    "        numEvs = steps[i]\n",
    "        P = project(eig_vecs[:,0:numEvs], image.reshape(1,-1), mu)\n",
    "        R = reconstruct(eig_vecs[:,0:numEvs], P, mu)\n",
    "        # reshape and append\n",
    "        R = R.reshape(image.shape)\n",
    "        E.append(normalize(R,0,255))\n",
    "    return E, steps\n",
    "\n",
    "def MSE(X, Y):\n",
    "    m, n = X.shape\n",
    "    error = 0\n",
    "    for i in range(m):\n",
    "        for j in range(n):\n",
    "            error += (X[i, j] - Y[i, j])**2\n",
    "    error /= (m * n)\n",
    "    return error"
   ]
  },
  {
   "cell_type": "code",
   "execution_count": 5,
   "metadata": {},
   "outputs": [],
   "source": [
    "X = read_images('./dataset')"
   ]
  },
  {
   "cell_type": "code",
   "execution_count": 6,
   "metadata": {},
   "outputs": [],
   "source": [
    "[eig_val, eig_vecs, mu] = pca(asRowMatrix(X))\n",
    "components = 32"
   ]
  },
  {
   "cell_type": "code",
   "execution_count": 7,
   "metadata": {},
   "outputs": [],
   "source": [
    "Eig_face = []\n",
    "for i in range(min(len(X), components)):\n",
    "    e = eig_vecs[:,i].reshape(X[0].shape)\n",
    "    Eig_face.append(normalize(e, 0, 255))"
   ]
  },
  {
   "cell_type": "code",
   "execution_count": 8,
   "metadata": {},
   "outputs": [],
   "source": [
    "train_data_X = []\n",
    "train_data_Y = []\n",
    "for i in range(0, len(train_data)):\n",
    "    train_data_X.append(weight_img(train_data[i][0], components).flatten())\n",
    "    train_data_Y.append(train_data[i][1])\n",
    "test_data_X = []\n",
    "for i in range(0, len(test_data)):\n",
    "    test_data_X.append(weight_img(test_data[i], components).flatten())"
   ]
  },
  {
   "cell_type": "code",
   "execution_count": 9,
   "metadata": {},
   "outputs": [],
   "source": [
    "train_data_X = np.array(train_data_X)\n",
    "train_data_Y = np.array(train_data_Y)\n",
    "test_data_X = np.array(test_data_X)"
   ]
  },
  {
   "cell_type": "code",
   "execution_count": 10,
   "metadata": {},
   "outputs": [],
   "source": [
    "def getLoss(w,x,y,lam):\n",
    "    m = x.shape[0] #First we get the number of training examples\n",
    "    y_mat = oneHotIt(y) #Next we convert the integer class coding into a one-hot representation\n",
    "    scores = np.dot(x,w) #Then we compute raw class scores given our input and current weights\n",
    "    prob = softmax(scores) #Next we perform a softmax on these scores to get their probabilities\n",
    "    loss = (-1 / m) * np.sum(y_mat * np.log(prob)) + (lam/2)*np.sum(w*w) #We then find the loss of the probabilities\n",
    "    grad = (-1 / m) * np.dot(x.T,(y_mat - prob)) + lam*w #And compute the gradient for that loss\n",
    "    return loss, grad"
   ]
  },
  {
   "cell_type": "code",
   "execution_count": 11,
   "metadata": {},
   "outputs": [],
   "source": [
    "def create_lable(Y):\n",
    "    l_dict = dict(zip(set(Y), range(len(Y))))\n",
    "    return np.array([l_dict[x] for x in Y])"
   ]
  },
  {
   "cell_type": "code",
   "execution_count": 12,
   "metadata": {},
   "outputs": [],
   "source": [
    "def oneHotIt(Y):\n",
    "    n_values = np.max(Y) + 1\n",
    "    return np.eye(n_values)[Y] "
   ]
  },
  {
   "cell_type": "code",
   "execution_count": 13,
   "metadata": {},
   "outputs": [],
   "source": [
    "def softmax(z):\n",
    "    z -= np.max(z)\n",
    "    sm = (np.exp(z).T / np.sum(np.exp(z),axis=1)).T\n",
    "    return sm"
   ]
  },
  {
   "cell_type": "code",
   "execution_count": 14,
   "metadata": {},
   "outputs": [],
   "source": [
    "def getProbsAndPreds(someX):\n",
    "    probs = softmax(np.dot(someX,w))\n",
    "    preds = np.argmax(probs,axis=1)\n",
    "    return probs,preds"
   ]
  },
  {
   "cell_type": "code",
   "execution_count": 15,
   "metadata": {},
   "outputs": [
    {
     "name": "stdout",
     "output_type": "stream",
     "text": [
      "0.0007955993222191435\n"
     ]
    }
   ],
   "source": [
    "x = train_data_X\n",
    "y = create_lable(train_data_Y)\n",
    "w = np.zeros([x.shape[1],len(np.unique(y))])\n",
    "lam = 1\n",
    "iterations = 10\n",
    "learningRate = 1e-5\n",
    "losses = []\n",
    "for i in range(0,iterations):\n",
    "    loss,grad = getLoss(w,x,y,lam)\n",
    "    losses.append(loss)\n",
    "    w = w - (learningRate * grad)\n",
    "print(loss)"
   ]
  },
  {
   "cell_type": "code",
   "execution_count": 16,
   "metadata": {},
   "outputs": [],
   "source": [
    "prob, prede = getProbsAndPreds(x)"
   ]
  },
  {
   "cell_type": "code",
   "execution_count": 17,
   "metadata": {},
   "outputs": [
    {
     "data": {
      "text/plain": [
       "[<matplotlib.lines.Line2D at 0x7f3af44b4198>]"
      ]
     },
     "execution_count": 17,
     "metadata": {},
     "output_type": "execute_result"
    },
    {
     "data": {
      "image/png": "[encoded data removed]",
      "text/plain": [
       "<Figure size 432x288 with 1 Axes>"
      ]
     },
     "metadata": {},
     "output_type": "display_data"
    }
   ],
   "source": [
    "plt.plot(losses)"
   ]
  },
  {
   "cell_type": "code",
   "execution_count": null,
   "metadata": {},
   "outputs": [],
   "source": []
  }
 ],
 "metadata": {
  "kernelspec": {
   "display_name": "Python 3",
   "language": "python",
   "name": "python3"
  },
  "language_info": {
   "codemirror_mode": {
    "name": "ipython",
    "version": 3
   },
   "file_extension": ".py",
   "mimetype": "text/x-python",
   "name": "python",
   "nbconvert_exporter": "python",
   "pygments_lexer": "ipython3",
   "version": "3.6.5"
  }
 },
 "nbformat": 4,
 "nbformat_minor": 2
}
